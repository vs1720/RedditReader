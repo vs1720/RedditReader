{
 "cells": [
  {
   "cell_type": "code",
   "execution_count": 78,
   "metadata": {},
   "outputs": [],
   "source": [
    "import numpy as np\n",
    "import pandas as pd\n",
    "\n",
    "def init(prs, thresh):\n",
    "    #importing and preprocessing\n",
    "    from sklearn.model_selection import cross_val_score\n",
    "    data = pd.read_csv(r'C:\\Users\\Viral Shanker\\MLfile.csv')\n",
    "    data.head()\n",
    "    data[\"constant\"] = 1\n",
    "    data = data.drop(columns = [\"maxscore\"])\n",
    "    data = data.drop(columns = [\"age\", 'created1.1', 'score1.1', 'age1.1', 'stories1.1', 'ratio1.1', 'coms1.1', 'created2.1', 'score2.1', 'age2.1', 'stories2.1', 'ratio2.1', 'coms2.1', 'created3.1', 'score3.1', 'age3.1', 'stories3.1', 'ratio3.1', 'coms3.1', 'created4.1', 'score4.1', 'age4.1', 'stories4.1', 'ratio4.1', 'coms4.1', 'created5.1', 'score5.1', 'age5.1', 'stories5.1', 'ratio5.1', 'coms5.1'])\n",
    "    data[\"finalScore\"] = data[\"61selfScore\"]\n",
    "    data[\"success\"] = 0\n",
    "    from sklearn.utils import shuffle\n",
    "    #data = shuffle(data)\n",
    "    #getHour and decide whether o not to shuffle\n",
    "    import datetime\n",
    "    def getHourIndex(pers, intercept = 37, slope = 34):\n",
    "        return(intercept + 34*pers)\n",
    "\n",
    "    threshL = [thresh]\n",
    "    pers = prs\n",
    "    ind = getHourIndex(pers)\n",
    "\n",
    "    curr = 1\n",
    "    for x in threshL:\n",
    "        data.loc[data.finalScore > x, \"success\"] = curr\n",
    "        curr += 1\n",
    "    ##data.loc[data.finalScore > thresh, \"success\"] = 1\n",
    "    X = data[data.columns[3:ind]]\n",
    "    y = data[\"finalScore\"]\n",
    "    X = pd.concat([X, data[\"created_utc\"].apply(lambda s: pd.Series({'day':datetime.datetime.utcfromtimestamp(s).strftime('%a')}))], axis=1)\n",
    "    t = pd.get_dummies(X[\"day\"])\n",
    "    X = X.join(t)\n",
    "    X = X.drop(columns = [\"day\"])\n",
    "    X = X.apply(pd.to_numeric)\n",
    "    return(X,y)\n",
    "\n",
    "def generalTest(reg, thresh, trainX, trainy, testX, testy, verbose):\n",
    "        reg.fit(trainX, trainy)\n",
    "        if verbose:\n",
    "            print(\"The Score is: \", reg.score(testX, testy))\n",
    "        a = np.where(testy > thresh)[0].tolist()\n",
    "        preds = reg.predict(testX)\n",
    "        p = np.where(preds > thresh)[0].tolist()\n",
    "        #print(a)\n",
    "        #print(p)\n",
    "        c = 0\n",
    "        i = 0\n",
    "        m = 0\n",
    "        for e in p:\n",
    "            if e not in a:\n",
    "                if verbose:\n",
    "                    print(\"Incorrect Prediction\", e, \"actual score:\", testy.tolist()[e], \"predicted score:\", preds.tolist()[e])\n",
    "                i += 1\n",
    "            else:\n",
    "                if verbose:\n",
    "                    print(\"Correct Prediction\", e ,\"actual score:\", testy.tolist()[e], \"predicted score:\", preds.tolist()[e])\n",
    "                c += 1\n",
    "        for e in a:\n",
    "            if e not in p:\n",
    "                if verbose:\n",
    "                    print(\"Missed Prediction\", e, \"actual score:\", testy.tolist()[e], \"predicted score:\", preds.tolist()[e])\n",
    "                m += 1\n",
    "        if verbose:\n",
    "            print(\"Correct:\", c)\n",
    "            print(\"Inorrect:\", i)\n",
    "            print(\"Missed:\", m)\n",
    "        return(c,i,m)\n",
    "\n",
    "def generalRegTest(thresh, seds, MasterReg, norm, X, y, verbose = False):\n",
    "    #Our generalized regression testing \n",
    "    if norm is True:\n",
    "        X = X.apply(lambda x: x/x.max(), axis=0)\n",
    "    ccnt = 0\n",
    "    icnt = 0\n",
    "    mcnt = 0\n",
    "    for seed in seds:\n",
    "        #print('for seed', seed)\n",
    "        from sklearn.model_selection import train_test_split\n",
    "        X_train, X_test, y_train, y_test = train_test_split(\n",
    "            X, y, test_size=0.25, random_state=seed)\n",
    "        tem = generalTest(MasterReg, thresh, X_train, y_train, X_test, y_test, verbose)\n",
    "        ccnt += tem[0]\n",
    "        icnt += tem[1]\n",
    "        mcnt += tem[2]\n",
    "    print(\"Correct:\", ccnt)\n",
    "    print(\"Inorrect:\", icnt)\n",
    "    print(\"Missed:\", mcnt)"
   ]
  },
  {
   "cell_type": "code",
   "execution_count": 79,
   "metadata": {},
   "outputs": [],
   "source": [
    "prs = 6\n",
    "cutOff = 2000\n",
    "seds = [312,2,14,425]\n",
    "dat = init(prs, cutOff)\n",
    "X = dat[0]\n",
    "y = dat[1]"
   ]
  },
  {
   "cell_type": "code",
   "execution_count": 84,
   "metadata": {},
   "outputs": [],
   "source": [
    "\n",
    "from sklearn.ensemble import RandomForestRegressor\n",
    "from sklearn.ensemble import GradientBoostingRegressor\n",
    "from sklearn.ensemble import GradientBoostingClassifier\n",
    "from sklearn.ensemble import RandomForestClassifier\n",
    "from sklearn.neural_network import MLPRegressor\n",
    "from sklearn.datasets import make_regression\n",
    "regr = RandomForestRegressor(max_depth=2, n_estimators=100)\n",
    "regrC = RandomForestClassifier(max_depth=5, random_state=0, n_estimators=100, class_weight = \"balanced\")\n",
    "regD = MLPRegressor(solver='lbfgs', hidden_layer_sizes=100,\n",
    "                           max_iter=300, shuffle=False, random_state=9876,\n",
    "                           activation='relu')\n",
    "regGB = GradientBoostingRegressor(loss = \"ls\", n_estimators = 1000)\n",
    "params = {'n_estimators': 500, 'max_depth': 3, 'min_samples_split': 2,\n",
    "          'learning_rate': 0.01, 'loss': 'ls', 'verbose': 0}\n",
    "clf = GradientBoostingRegressor(**params)"
   ]
  },
  {
   "cell_type": "code",
   "execution_count": 85,
   "metadata": {},
   "outputs": [
    {
     "name": "stdout",
     "output_type": "stream",
     "text": [
      "Correct: 34\n",
      "Inorrect: 14\n",
      "Missed: 30\n"
     ]
    }
   ],
   "source": [
    "generalRegTest(5000, seds, clf, False,X, y, False)"
   ]
  },
  {
   "cell_type": "code",
   "execution_count": null,
   "metadata": {},
   "outputs": [],
   "source": []
  }
 ],
 "metadata": {
  "kernelspec": {
   "display_name": "Python (intro-to-ml)",
   "language": "python",
   "name": "intro-to-ml"
  },
  "language_info": {
   "codemirror_mode": {
    "name": "ipython",
    "version": 3
   },
   "file_extension": ".py",
   "mimetype": "text/x-python",
   "name": "python",
   "nbconvert_exporter": "python",
   "pygments_lexer": "ipython3",
   "version": "3.6.5"
  }
 },
 "nbformat": 4,
 "nbformat_minor": 2
}
